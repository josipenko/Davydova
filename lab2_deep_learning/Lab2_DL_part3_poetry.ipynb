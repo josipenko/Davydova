{
 "cells": [
  {
   "cell_type": "markdown",
   "metadata": {},
   "source": [
    "## Lab 2"
   ]
  },
  {
   "cell_type": "markdown",
   "metadata": {},
   "source": [
    "### Part 3. Poetry generation\n",
    "\n",
    "Let's try to generate some poetry using RNNs. \n",
    "\n",
    "You have several choices here: \n",
    "\n",
    "* The Shakespeare sonnets, file `sonnets.txt` available in the notebook directory.\n",
    "\n",
    "* Роман в стихах \"Евгений Онегин\" Александра Сергеевича Пушкина. В предобработанном виде доступен по [ссылке](https://github.com/attatrol/data_sources/blob/master/onegin.txt).\n",
    "\n",
    "* Some other text source, if it will be approved by the course staff.\n",
    "\n",
    "Text generation can be designed in several steps:\n",
    "    \n",
    "1. Data loading.\n",
    "2. Dictionary generation.\n",
    "3. Data preprocessing.\n",
    "4. Model (neural network) training.\n",
    "5. Text generation (model evaluation).\n"
   ]
  },
  {
   "cell_type": "code",
   "execution_count": 1,
   "metadata": {},
   "outputs": [],
   "source": [
    "import string\n",
    "import os"
   ]
  },
  {
   "cell_type": "markdown",
   "metadata": {},
   "source": [
    "### Data loading: Shakespeare"
   ]
  },
  {
   "cell_type": "markdown",
   "metadata": {},
   "source": [
    "Shakespeare sonnets are awailable at this [link](http://www.gutenberg.org/ebooks/1041?msg=welcome_stranger). In addition, they are stored in the same directory as this notebook (`sonnetes.txt`). Simple preprocessing is already done for you in the next cell: all technical info is dropped."
   ]
  },
  {
   "cell_type": "code",
   "execution_count": 2,
   "metadata": {},
   "outputs": [],
   "source": [
    "if not os.path.exists('sonnets.txt'):\n",
    "    !wget https://raw.githubusercontent.com/girafe-ai/ml-course/22f_basic/homeworks_basic/lab02_deep_learning/sonnets.txt\n",
    "\n",
    "with open('sonnets.txt', 'r') as iofile:\n",
    "    text = iofile.readlines()\n",
    "    \n",
    "TEXT_START = 45\n",
    "TEXT_END = -368\n",
    "text = text[TEXT_START : TEXT_END]\n",
    "assert len(text) == 2616"
   ]
  },
  {
   "cell_type": "markdown",
   "metadata": {},
   "source": [
    "In opposite to the in-class practice, this time we want to predict complex text. Let's reduce the complexity of the task and lowercase all the symbols.\n",
    "\n",
    "Now variable `text` is a list of strings. Join all the strings into one and lowercase it."
   ]
  },
  {
   "cell_type": "code",
   "execution_count": 3,
   "metadata": {},
   "outputs": [
    {
     "name": "stdout",
     "output_type": "stream",
     "text": [
      "OK!\n"
     ]
    }
   ],
   "source": [
    "# Join all the strings into one and lowercase it\n",
    "# Put result into variable text.\n",
    "\n",
    "# Your great code here\n",
    "text = ''.join(text).lower()\n",
    "\n",
    "assert len(text) == 100225, 'Are you sure you have concatenated all the strings?'\n",
    "assert not any([x in set(text) for x in string.ascii_uppercase]), 'Uppercase letters are present'\n",
    "print('OK!')"
   ]
  },
  {
   "cell_type": "markdown",
   "metadata": {},
   "source": [
    "Put all the characters, that you've seen in the text, into variable `tokens`."
   ]
  },
  {
   "cell_type": "code",
   "execution_count": 4,
   "metadata": {},
   "outputs": [],
   "source": [
    "tokens = sorted(set(text))"
   ]
  },
  {
   "cell_type": "markdown",
   "metadata": {},
   "source": [
    "Create dictionary `token_to_idx = {<char>: <index>}` and dictionary `idx_to_token = {<index>: <char>}`"
   ]
  },
  {
   "cell_type": "code",
   "execution_count": 5,
   "metadata": {},
   "outputs": [],
   "source": [
    "# dict <index>:<char>\n",
    "# Your great code here\n",
    "idx_to_token = dict(enumerate(tokens))\n",
    "\n",
    "# dict <char>:<index>\n",
    "# Your great code here\n",
    "token_to_idx = {token : idx for idx, token in idx_to_token.items()}"
   ]
  },
  {
   "cell_type": "code",
   "execution_count": 6,
   "metadata": {},
   "outputs": [
    {
     "name": "stdout",
     "output_type": "stream",
     "text": [
      "{0: '\\n', 1: ' ', 2: '!', 3: \"'\", 4: '(', 5: ')', 6: ',', 7: '-', 8: '.', 9: ':', 10: ';', 11: '?', 12: 'a', 13: 'b', 14: 'c', 15: 'd', 16: 'e', 17: 'f', 18: 'g', 19: 'h', 20: 'i', 21: 'j', 22: 'k', 23: 'l', 24: 'm', 25: 'n', 26: 'o', 27: 'p', 28: 'q', 29: 'r', 30: 's', 31: 't', 32: 'u', 33: 'v', 34: 'w', 35: 'x', 36: 'y', 37: 'z'}\n"
     ]
    }
   ],
   "source": [
    "print(idx_to_token)"
   ]
  },
  {
   "cell_type": "code",
   "execution_count": 7,
   "metadata": {},
   "outputs": [
    {
     "name": "stdout",
     "output_type": "stream",
     "text": [
      "{'\\n': 0, ' ': 1, '!': 2, \"'\": 3, '(': 4, ')': 5, ',': 6, '-': 7, '.': 8, ':': 9, ';': 10, '?': 11, 'a': 12, 'b': 13, 'c': 14, 'd': 15, 'e': 16, 'f': 17, 'g': 18, 'h': 19, 'i': 20, 'j': 21, 'k': 22, 'l': 23, 'm': 24, 'n': 25, 'o': 26, 'p': 27, 'q': 28, 'r': 29, 's': 30, 't': 31, 'u': 32, 'v': 33, 'w': 34, 'x': 35, 'y': 36, 'z': 37}\n"
     ]
    }
   ],
   "source": [
    "print(token_to_idx)"
   ]
  },
  {
   "cell_type": "markdown",
   "metadata": {},
   "source": [
    "*Comment: in this task we have only 38 different tokens, so let's use one-hot encoding.*"
   ]
  },
  {
   "cell_type": "code",
   "execution_count": 8,
   "metadata": {},
   "outputs": [],
   "source": [
    "def one_hot_encode(data, number_of_labels):\n",
    "    assert len(data.shape) == 2, \"Dimension of data to encode should be 2D!\"\n",
    "    total_to_encode = data.shape[0] * data.shape[1]\n",
    "    one_hot_encoded = torch.zeros(total_to_encode, number_of_labels)\n",
    "    one_hot_encoded[torch.arange(total_to_encode), data.flatten()] = 1\n",
    "    return one_hot_encoded.reshape((*data.shape, number_of_labels))"
   ]
  },
  {
   "cell_type": "markdown",
   "metadata": {},
   "source": [
    "### Building the model"
   ]
  },
  {
   "cell_type": "markdown",
   "metadata": {},
   "source": [
    "Now we want to build and train recurrent neural net which would be able to something similar to Shakespeare's poetry.\n",
    "\n",
    "Let's use vanilla RNN, similar to the one created during the lesson."
   ]
  },
  {
   "cell_type": "code",
   "execution_count": 9,
   "metadata": {},
   "outputs": [],
   "source": [
    "# Your code here\n",
    "\n",
    "import torch, torch.nn as nn\n",
    "import torch.nn.functional as F\n",
    "import numpy as np\n",
    "from torch.nn import Parameter"
   ]
  },
  {
   "cell_type": "code",
   "execution_count": 10,
   "metadata": {},
   "outputs": [
    {
     "name": "stdout",
     "output_type": "stream",
     "text": [
      "38\n"
     ]
    }
   ],
   "source": [
    "num_tokens = len(tokens)\n",
    "print(num_tokens)"
   ]
  },
  {
   "cell_type": "code",
   "execution_count": 11,
   "metadata": {},
   "outputs": [
    {
     "name": "stdout",
     "output_type": "stream",
     "text": [
      "cpu\n"
     ]
    }
   ],
   "source": [
    "device = torch.device(\"cuda\" if torch.cuda.is_available() else \"cpu\")\n",
    "print(device)"
   ]
  },
  {
   "cell_type": "code",
   "execution_count": 12,
   "metadata": {},
   "outputs": [],
   "source": [
    "class VanillaRNN(nn.Module):\n",
    "    def __init__(self, n_tokens, n_hidden=512, n_layers=1):\n",
    "        super(self.__class__, self).__init__()\n",
    "        self.n_tokens = n_tokens\n",
    "        self.n_layers = n_layers\n",
    "        self.n_hidden = n_hidden\n",
    "        self.rnn = nn.RNN(self.n_tokens, self.n_hidden, self.n_layers, batch_first=True)\n",
    "        self.lin = nn.Linear(self.n_hidden, self.n_tokens)\n",
    "        \n",
    "    def forward(self, x, hidden):\n",
    "        out, hidden = self.rnn(x, hidden)\n",
    "        out = out.reshape(-1, self.n_hidden)\n",
    "        out = self.lin(out)\n",
    "        return out, hidden\n",
    "        \n",
    "    def init_hidden(self, batch_size=1):\n",
    "        return torch.zeros(self.n_layers, batch_size, self.n_hidden).to(device)"
   ]
  },
  {
   "cell_type": "code",
   "execution_count": 13,
   "metadata": {},
   "outputs": [],
   "source": [
    "def get_batches(data, batch_size, sequence_length):\n",
    "    batch_size_total = batch_size * sequence_length\n",
    "    number_batches = len(data) // batch_size_total\n",
    "    data = data[:number_batches * batch_size_total]\n",
    "    data = data.reshape((batch_size, -1))\n",
    "    for n in range(0, data.shape[1], sequence_length):\n",
    "        x = data[:, n:n+sequence_length]\n",
    "        y = torch.zeros_like(x)\n",
    "        try:\n",
    "            y[:, :-1], y[:, -1] = x[:, 1:], data[:, n+sequence_length]\n",
    "        except IndexError:\n",
    "            y[:, :-1], y[:, -1] = x[:, 1:], data[:, 0]\n",
    "        yield x, y"
   ]
  },
  {
   "cell_type": "code",
   "execution_count": 14,
   "metadata": {},
   "outputs": [],
   "source": [
    "def train(model, data, optimizer, criterion, epochs, batch_size, sequence_length):\n",
    "    model.train()\n",
    "    loss_history = []\n",
    "    for epoch in range(epochs):\n",
    "        loss_value = []\n",
    "        h = model.init_hidden(batch_size)\n",
    "        for x, y in get_batches(data, batch_size, sequence_length):\n",
    "            x = one_hot_encode(x, num_tokens)\n",
    "            x, y = x.to(device), y.to(device)\n",
    "            model.zero_grad()\n",
    "            h.detach_()  # no need to calculate gradient\n",
    "            output, h = model.forward(x, h)\n",
    "            loss = criterion(output, y.reshape(batch_size*sequence_length).long())\n",
    "            loss_value.append(loss.item())\n",
    "            loss.backward()\n",
    "            optimizer.step()\n",
    "        loss_history.append(sum(loss_value) / len(loss_value))\n",
    "        print(f\"Epoch: {epoch + 1}/{epochs}: Loss: {loss_history[-1]:.4f}:\")\n",
    "    return loss_history"
   ]
  },
  {
   "cell_type": "code",
   "execution_count": 15,
   "metadata": {},
   "outputs": [
    {
     "name": "stdout",
     "output_type": "stream",
     "text": [
      "Epoch: 1/100: Loss: 3.2462:\n",
      "Epoch: 2/100: Loss: 2.9636:\n",
      "Epoch: 3/100: Loss: 2.9326:\n",
      "Epoch: 4/100: Loss: 2.9035:\n",
      "Epoch: 5/100: Loss: 2.8716:\n",
      "Epoch: 6/100: Loss: 2.8248:\n",
      "Epoch: 7/100: Loss: 2.7604:\n",
      "Epoch: 8/100: Loss: 2.6866:\n",
      "Epoch: 9/100: Loss: 2.7597:\n",
      "Epoch: 10/100: Loss: 2.6560:\n",
      "Epoch: 11/100: Loss: 2.5866:\n",
      "Epoch: 12/100: Loss: 2.5213:\n",
      "Epoch: 13/100: Loss: 2.4608:\n",
      "Epoch: 14/100: Loss: 2.4322:\n",
      "Epoch: 15/100: Loss: 2.3877:\n",
      "Epoch: 16/100: Loss: 2.3398:\n",
      "Epoch: 17/100: Loss: 2.3045:\n",
      "Epoch: 18/100: Loss: 2.2749:\n",
      "Epoch: 19/100: Loss: 2.2410:\n",
      "Epoch: 20/100: Loss: 2.2131:\n",
      "Epoch: 21/100: Loss: 2.1939:\n",
      "Epoch: 22/100: Loss: 2.1711:\n",
      "Epoch: 23/100: Loss: 2.1692:\n",
      "Epoch: 24/100: Loss: 2.1794:\n",
      "Epoch: 25/100: Loss: 2.1707:\n",
      "Epoch: 26/100: Loss: 2.1357:\n",
      "Epoch: 27/100: Loss: 2.1165:\n",
      "Epoch: 28/100: Loss: 2.0995:\n",
      "Epoch: 29/100: Loss: 2.0850:\n",
      "Epoch: 30/100: Loss: 2.0733:\n",
      "Epoch: 31/100: Loss: 2.0642:\n",
      "Epoch: 32/100: Loss: 2.0556:\n",
      "Epoch: 33/100: Loss: 2.0472:\n",
      "Epoch: 34/100: Loss: 2.0410:\n",
      "Epoch: 35/100: Loss: 2.0362:\n",
      "Epoch: 36/100: Loss: 2.0257:\n",
      "Epoch: 37/100: Loss: 2.0462:\n",
      "Epoch: 38/100: Loss: 2.0388:\n",
      "Epoch: 39/100: Loss: 2.0219:\n",
      "Epoch: 40/100: Loss: 2.0135:\n",
      "Epoch: 41/100: Loss: 2.0064:\n",
      "Epoch: 42/100: Loss: 1.9998:\n",
      "Epoch: 43/100: Loss: 1.9934:\n",
      "Epoch: 44/100: Loss: 1.9861:\n",
      "Epoch: 45/100: Loss: 1.9788:\n",
      "Epoch: 46/100: Loss: 1.9722:\n",
      "Epoch: 47/100: Loss: 1.9969:\n",
      "Epoch: 48/100: Loss: 2.0026:\n",
      "Epoch: 49/100: Loss: 1.9822:\n",
      "Epoch: 50/100: Loss: 1.9685:\n",
      "Epoch: 51/100: Loss: 1.9581:\n",
      "Epoch: 52/100: Loss: 1.9494:\n",
      "Epoch: 53/100: Loss: 1.9415:\n",
      "Epoch: 54/100: Loss: 1.9346:\n",
      "Epoch: 55/100: Loss: 1.9274:\n",
      "Epoch: 56/100: Loss: 1.9209:\n",
      "Epoch: 57/100: Loss: 1.9146:\n",
      "Epoch: 58/100: Loss: 1.9139:\n",
      "Epoch: 59/100: Loss: 1.9072:\n",
      "Epoch: 60/100: Loss: 1.8982:\n",
      "Epoch: 61/100: Loss: 1.8894:\n",
      "Epoch: 62/100: Loss: 1.8882:\n",
      "Epoch: 63/100: Loss: 1.8834:\n",
      "Epoch: 64/100: Loss: 1.8731:\n",
      "Epoch: 65/100: Loss: 1.8707:\n",
      "Epoch: 66/100: Loss: 1.8624:\n",
      "Epoch: 67/100: Loss: 1.8533:\n",
      "Epoch: 68/100: Loss: 1.8439:\n",
      "Epoch: 69/100: Loss: 1.9229:\n",
      "Epoch: 70/100: Loss: 1.8865:\n",
      "Epoch: 71/100: Loss: 1.8617:\n",
      "Epoch: 72/100: Loss: 1.8433:\n",
      "Epoch: 73/100: Loss: 1.8303:\n",
      "Epoch: 74/100: Loss: 1.8197:\n",
      "Epoch: 75/100: Loss: 1.8109:\n",
      "Epoch: 76/100: Loss: 1.8035:\n",
      "Epoch: 77/100: Loss: 1.7964:\n",
      "Epoch: 78/100: Loss: 1.7893:\n",
      "Epoch: 79/100: Loss: 1.7799:\n",
      "Epoch: 80/100: Loss: 1.7712:\n",
      "Epoch: 81/100: Loss: 1.7654:\n",
      "Epoch: 82/100: Loss: 1.7593:\n",
      "Epoch: 83/100: Loss: 1.7536:\n",
      "Epoch: 84/100: Loss: 1.7443:\n",
      "Epoch: 85/100: Loss: 1.7421:\n",
      "Epoch: 86/100: Loss: 1.7340:\n",
      "Epoch: 87/100: Loss: 1.7245:\n",
      "Epoch: 88/100: Loss: 1.7364:\n",
      "Epoch: 89/100: Loss: 1.7287:\n",
      "Epoch: 90/100: Loss: 1.7166:\n",
      "Epoch: 91/100: Loss: 1.7036:\n",
      "Epoch: 92/100: Loss: 1.6922:\n",
      "Epoch: 93/100: Loss: 1.6833:\n",
      "Epoch: 94/100: Loss: 1.6749:\n",
      "Epoch: 95/100: Loss: 1.6668:\n",
      "Epoch: 96/100: Loss: 1.6583:\n",
      "Epoch: 97/100: Loss: 1.6500:\n",
      "Epoch: 98/100: Loss: 1.6453:\n",
      "Epoch: 99/100: Loss: 1.6376:\n",
      "Epoch: 100/100: Loss: 1.6376:\n"
     ]
    }
   ],
   "source": [
    "n_hidden = 512\n",
    "model = VanillaRNN(num_tokens, n_hidden).to(device)\n",
    "\n",
    "batch_size = 128\n",
    "sequence_length = 100\n",
    "epochs = 100\n",
    "\n",
    "optimizer = torch.optim.Adam(model.parameters(), lr=0.001)\n",
    "criterion = nn.CrossEntropyLoss()\n",
    "\n",
    "text_encoded = torch.tensor([token_to_idx[token] for token in text])\n",
    "\n",
    "loss_list = train(model, text_encoded, optimizer, criterion, epochs, batch_size, sequence_length)"
   ]
  },
  {
   "cell_type": "markdown",
   "metadata": {},
   "source": [
    "Plot the loss function (axis X: number of epochs, axis Y: loss function)."
   ]
  },
  {
   "cell_type": "code",
   "execution_count": 16,
   "metadata": {
    "scrolled": true
   },
   "outputs": [
    {
     "data": {
      "image/png": "[encoded data removed]",
      "text/plain": [
       "<Figure size 1000x500 with 1 Axes>"
      ]
     },
     "metadata": {},
     "output_type": "display_data"
    }
   ],
   "source": [
    "# Your plot code here\n",
    "import matplotlib.pyplot as plt\n",
    "\n",
    "epochs_list = list(range(1, epochs + 1))\n",
    "fig = plt.figure(figsize=(10,5))\n",
    "ax = fig.subplots()\n",
    "ax.plot(epochs_list, loss_list, 'r', marker='o')\n",
    "ax.set_xlabel(\"Epochs\")\n",
    "ax.set_ylabel(\"Loss\")\n",
    "ax.set_xlim([0, epochs + 1])\n",
    "ax.grid()\n",
    "plt.show()"
   ]
  },
  {
   "cell_type": "code",
   "execution_count": 17,
   "metadata": {},
   "outputs": [],
   "source": [
    "def sample(model, size, prime=' hello', temperature=1.0):\n",
    "    \n",
    "    def predict(model, char, h=None):\n",
    "        x = np.array([[token_to_idx[char]]])\n",
    "        x = one_hot_encode(x, model.n_tokens)\n",
    "        inputs = x.to(device)\n",
    "        out, h = model(inputs, h)\n",
    "        p = F.softmax(out / temperature, dim=-1).data.numpy()[0]\n",
    "        next_ix = np.random.choice(len(tokens), p=p)\n",
    "        return idx_to_token[next_ix], h\n",
    "\n",
    "    model.eval()\n",
    "    chars = [ch for ch in prime]\n",
    "    h = model.init_hidden(batch_size=1)\n",
    "    for ch in prime:\n",
    "        char, h = predict(model, ch, h=h)\n",
    "    chars.append(char)\n",
    "    for ii in range(size):\n",
    "        char, h = predict(model, chars[-1], h=h)\n",
    "        chars.append(char)\n",
    "\n",
    "    return ''.join(chars)"
   ]
  },
  {
   "cell_type": "code",
   "execution_count": 18,
   "metadata": {},
   "outputs": [
    {
     "name": "stdout",
     "output_type": "stream",
     "text": [
      " hellove when i have the will with the will be the wirl will not the thee,\n",
      "    and thee thou art the with urous and thee thee in the thee the bearty that in the eare shell my hame the fore the sender of me that that is the will be the seall the wind and mine eye some thee the romest thou hast thou the with thee the reall the sumber four dear all the stoll the wist my love shall self it of thee in the rould my love thou hast thou hast thou hast thou art thee the pores in heart the world mo thee mo the w\n"
     ]
    }
   ],
   "source": [
    "print(sample(model, 500, ' hello', 0.2))"
   ]
  },
  {
   "cell_type": "markdown",
   "metadata": {},
   "source": [
    "### More poetic model\n",
    "\n",
    "Let's use LSTM instead of vanilla RNN and compare the results."
   ]
  },
  {
   "cell_type": "markdown",
   "metadata": {},
   "source": [
    "Plot the loss function of the number of epochs. Does the final loss become better?"
   ]
  },
  {
   "cell_type": "code",
   "execution_count": 19,
   "metadata": {},
   "outputs": [],
   "source": [
    "# Your beautiful code here\n",
    "class LSTM(nn.Module):\n",
    "    \n",
    "    def __init__(self, n_tokens, n_hidden=256, n_layers=1):\n",
    "        super(self.__class__, self).__init__()\n",
    "        self.n_tokens = n_tokens\n",
    "        self.n_layers = n_layers\n",
    "        self.n_hidden = n_hidden\n",
    "        self.lstm = nn.LSTM(self.n_tokens, self.n_hidden, self.n_layers, batch_first=True)\n",
    "        self.lin = nn.Linear(self.n_hidden, self.n_tokens)\n",
    "        \n",
    "    def forward(self, x, hidden):\n",
    "        out, hidden = self.lstm(x, hidden)\n",
    "        out = out.reshape(-1, self.n_hidden)\n",
    "        out = self.lin(out)\n",
    "        return out, hidden\n",
    "    \n",
    "    def init_hidden(self, batch_size=1):\n",
    "        hidden = (torch.zeros(self.n_layers, batch_size, self.n_hidden).to(device),\n",
    "                  torch.zeros(self.n_layers, batch_size, self.n_hidden).to(device))\n",
    "        return hidden"
   ]
  },
  {
   "cell_type": "code",
   "execution_count": 20,
   "metadata": {},
   "outputs": [],
   "source": [
    "def train_lstm(model, data, optimizer, criterion, epochs, batch_size, sequence_length):\n",
    "    model.train()\n",
    "    loss_history = []\n",
    "    for epoch in range(epochs):\n",
    "        loss_value = []\n",
    "        h = model.init_hidden(batch_size)\n",
    "        for x, y in get_batches(data, batch_size, sequence_length):\n",
    "            x = one_hot_encode(x, num_tokens)\n",
    "            x, y = x.to(device), y.to(device)\n",
    "            model.zero_grad()\n",
    "            h[0].detach_(), h[1].detach_()  # no need to calculate gradient\n",
    "            output, h = model.forward(x, h)\n",
    "            loss = criterion(output, y.reshape(batch_size*sequence_length).long())\n",
    "            loss_value.append(loss.item())\n",
    "            loss.backward()\n",
    "            optimizer.step()\n",
    "        loss_history.append(sum(loss_value) / len(loss_value))\n",
    "        print(f\"Epoch: {epoch + 1}/{epochs}: Loss: {loss_history[-1]:.4f}:\")\n",
    "    return loss_history"
   ]
  },
  {
   "cell_type": "code",
   "execution_count": 21,
   "metadata": {},
   "outputs": [],
   "source": [
    "# Text generation with different temperature values here\n",
    "n_hidden = 512\n",
    "model = LSTM(num_tokens, n_hidden).to(device)\n",
    "\n",
    "batch_size = 128\n",
    "sequence_length = 100\n",
    "epochs = 100\n",
    "\n",
    "optimizer = torch.optim.Adam(model.parameters(), lr=0.001)\n",
    "criterion = nn.CrossEntropyLoss()\n",
    "\n",
    "text_encoded = torch.tensor([token_to_idx[token] for token in text])"
   ]
  },
  {
   "cell_type": "code",
   "execution_count": 22,
   "metadata": {},
   "outputs": [
    {
     "name": "stdout",
     "output_type": "stream",
     "text": [
      "Epoch: 1/100: Loss: 3.4845:\n",
      "Epoch: 2/100: Loss: 3.1943:\n",
      "Epoch: 3/100: Loss: 2.9892:\n",
      "Epoch: 4/100: Loss: 2.9658:\n",
      "Epoch: 5/100: Loss: 2.9491:\n",
      "Epoch: 6/100: Loss: 2.9437:\n",
      "Epoch: 7/100: Loss: 2.9376:\n",
      "Epoch: 8/100: Loss: 2.9322:\n",
      "Epoch: 9/100: Loss: 2.9255:\n",
      "Epoch: 10/100: Loss: 2.9169:\n",
      "Epoch: 11/100: Loss: 2.9050:\n",
      "Epoch: 12/100: Loss: 2.8869:\n",
      "Epoch: 13/100: Loss: 2.8631:\n",
      "Epoch: 14/100: Loss: 2.8244:\n",
      "Epoch: 15/100: Loss: 2.7713:\n",
      "Epoch: 16/100: Loss: 2.7098:\n",
      "Epoch: 17/100: Loss: 2.6508:\n",
      "Epoch: 18/100: Loss: 2.5971:\n",
      "Epoch: 19/100: Loss: 2.5285:\n",
      "Epoch: 20/100: Loss: 2.5406:\n",
      "Epoch: 21/100: Loss: 2.4944:\n",
      "Epoch: 22/100: Loss: 2.4438:\n",
      "Epoch: 23/100: Loss: 2.3956:\n",
      "Epoch: 24/100: Loss: 2.3589:\n",
      "Epoch: 25/100: Loss: 2.3274:\n",
      "Epoch: 26/100: Loss: 2.2966:\n",
      "Epoch: 27/100: Loss: 2.2712:\n",
      "Epoch: 28/100: Loss: 2.2498:\n",
      "Epoch: 29/100: Loss: 2.2250:\n",
      "Epoch: 30/100: Loss: 2.2081:\n",
      "Epoch: 31/100: Loss: 2.1884:\n",
      "Epoch: 32/100: Loss: 2.1835:\n",
      "Epoch: 33/100: Loss: 2.1619:\n",
      "Epoch: 34/100: Loss: 2.1479:\n",
      "Epoch: 35/100: Loss: 2.1286:\n",
      "Epoch: 36/100: Loss: 2.1136:\n",
      "Epoch: 37/100: Loss: 2.1126:\n",
      "Epoch: 38/100: Loss: 2.0941:\n",
      "Epoch: 39/100: Loss: 2.0776:\n",
      "Epoch: 40/100: Loss: 2.0769:\n",
      "Epoch: 41/100: Loss: 2.0618:\n",
      "Epoch: 42/100: Loss: 2.0520:\n",
      "Epoch: 43/100: Loss: 2.0361:\n",
      "Epoch: 44/100: Loss: 2.0362:\n",
      "Epoch: 45/100: Loss: 2.0177:\n",
      "Epoch: 46/100: Loss: 2.0152:\n",
      "Epoch: 47/100: Loss: 1.9977:\n",
      "Epoch: 48/100: Loss: 1.9863:\n",
      "Epoch: 49/100: Loss: 1.9726:\n",
      "Epoch: 50/100: Loss: 1.9667:\n",
      "Epoch: 51/100: Loss: 1.9545:\n",
      "Epoch: 52/100: Loss: 1.9448:\n",
      "Epoch: 53/100: Loss: 1.9354:\n",
      "Epoch: 54/100: Loss: 1.9493:\n",
      "Epoch: 55/100: Loss: 1.9304:\n",
      "Epoch: 56/100: Loss: 1.9121:\n",
      "Epoch: 57/100: Loss: 1.9007:\n",
      "Epoch: 58/100: Loss: 1.8901:\n",
      "Epoch: 59/100: Loss: 1.8839:\n",
      "Epoch: 60/100: Loss: 1.8788:\n",
      "Epoch: 61/100: Loss: 1.8678:\n",
      "Epoch: 62/100: Loss: 1.8596:\n",
      "Epoch: 63/100: Loss: 1.8626:\n",
      "Epoch: 64/100: Loss: 1.8481:\n",
      "Epoch: 65/100: Loss: 1.8416:\n",
      "Epoch: 66/100: Loss: 1.8345:\n",
      "Epoch: 67/100: Loss: 1.8229:\n",
      "Epoch: 68/100: Loss: 1.8131:\n",
      "Epoch: 69/100: Loss: 1.8061:\n",
      "Epoch: 70/100: Loss: 1.8022:\n",
      "Epoch: 71/100: Loss: 1.7915:\n",
      "Epoch: 72/100: Loss: 1.7861:\n",
      "Epoch: 73/100: Loss: 1.7784:\n",
      "Epoch: 74/100: Loss: 1.7699:\n",
      "Epoch: 75/100: Loss: 1.7626:\n",
      "Epoch: 76/100: Loss: 1.7629:\n",
      "Epoch: 77/100: Loss: 1.7578:\n",
      "Epoch: 78/100: Loss: 1.7495:\n",
      "Epoch: 79/100: Loss: 1.7398:\n",
      "Epoch: 80/100: Loss: 1.7285:\n",
      "Epoch: 81/100: Loss: 1.7215:\n",
      "Epoch: 82/100: Loss: 1.7122:\n",
      "Epoch: 83/100: Loss: 1.7041:\n",
      "Epoch: 84/100: Loss: 1.6976:\n",
      "Epoch: 85/100: Loss: 1.6913:\n",
      "Epoch: 86/100: Loss: 1.6882:\n",
      "Epoch: 87/100: Loss: 1.6816:\n",
      "Epoch: 88/100: Loss: 1.6774:\n",
      "Epoch: 89/100: Loss: 1.6716:\n",
      "Epoch: 90/100: Loss: 1.6630:\n",
      "Epoch: 91/100: Loss: 1.6539:\n",
      "Epoch: 92/100: Loss: 1.6437:\n",
      "Epoch: 93/100: Loss: 1.6452:\n",
      "Epoch: 94/100: Loss: 1.6433:\n",
      "Epoch: 95/100: Loss: 1.6384:\n",
      "Epoch: 96/100: Loss: 1.6298:\n",
      "Epoch: 97/100: Loss: 1.6188:\n",
      "Epoch: 98/100: Loss: 1.6077:\n",
      "Epoch: 99/100: Loss: 1.5994:\n",
      "Epoch: 100/100: Loss: 1.5948:\n"
     ]
    }
   ],
   "source": [
    "loss_list = train_lstm(model, text_encoded, optimizer, criterion, epochs, batch_size, sequence_length)"
   ]
  },
  {
   "cell_type": "code",
   "execution_count": 23,
   "metadata": {},
   "outputs": [
    {
     "data": {
      "image/png": "[encoded data removed]",
      "text/plain": [
       "<Figure size 1000x500 with 1 Axes>"
      ]
     },
     "metadata": {},
     "output_type": "display_data"
    }
   ],
   "source": [
    "# Your plot code here\n",
    "import matplotlib.pyplot as plt\n",
    "\n",
    "epochs_list = list(range(1, epochs + 1))\n",
    "fig = plt.figure(figsize=(10,5))\n",
    "ax = fig.subplots()\n",
    "ax.plot(epochs_list, loss_list, 'r', marker='o')\n",
    "ax.set_xlabel(\"Epochs\")\n",
    "ax.set_ylabel(\"Loss\")\n",
    "ax.set_xlim([0, epochs + 1])\n",
    "ax.grid()\n",
    "plt.show()"
   ]
  },
  {
   "cell_type": "markdown",
   "metadata": {},
   "source": [
    "We can observe that our model is able to achieve a lower loss than before with our simple RNN implementation. This should now also be reflected when we generate new samples. Note, that we increase the number of epochs the loss will decrease further."
   ]
  },
  {
   "cell_type": "markdown",
   "metadata": {},
   "source": [
    "Generate text using the trained net with different `temperature` parameter: `[0.1, 0.2, 0.5, 1.0, 2.0]`.\n",
    "\n",
    "Evaluate the results visually, try to interpret them."
   ]
  },
  {
   "cell_type": "markdown",
   "metadata": {},
   "source": [
    "Now let's look at the effect of temperature. We'll start with a very low temperature:"
   ]
  },
  {
   "cell_type": "code",
   "execution_count": 24,
   "metadata": {},
   "outputs": [
    {
     "name": "stdout",
     "output_type": "stream",
     "text": [
      " hellove the steen the store the store,\n",
      "  and the east thou with the store the store thee,\n",
      "  the store the stare the store the wind the steen,\n",
      "  the stould the store the store the store thee,\n",
      "  the sone the store the fare the cond and canse,\n",
      "  and the east thou with the store the store thee,\n",
      "  the stould the store the wind the seat store,\n",
      "  and the store the will with the store to thee,\n",
      "  and the east whe eres the store the store thee,\n",
      "    the sead the praise the will with the store thee,\n",
      "  the store the fair the store the live the seat,\n",
      "  the store the will with the store the store,\n",
      "  and the east thou make the store the store thee,\n",
      "  when i the sore the with the elf at of me.\n",
      "\n",
      "  xxxii\n",
      "\n",
      "  thou art the stare the stare the store the stere,\n",
      "  and the store the with the will the east the sweet,\n",
      "  that thou art the store the store the store the stere,\n",
      "  and the store the stare the store to the store,\n",
      "  and the east my seate that thou art the store,\n",
      "  the eart the will with the store the store the\n"
     ]
    }
   ],
   "source": [
    "print(sample(model, 1000, ' hello', 0.1))"
   ]
  },
  {
   "cell_type": "code",
   "execution_count": 25,
   "metadata": {},
   "outputs": [
    {
     "name": "stdout",
     "output_type": "stream",
     "text": [
      " hellong in the sweet white thou song and thee,\n",
      "    and the east shall the wint of the will stome thee,\n",
      "  the sone the fore the store the wind the stare,\n",
      "  the sone the fair the will which i store thee,\n",
      "  that the store that thou hast the store the will,\n",
      "  which shall the store the store the store to thee,\n",
      "  and the east of the with the sond and the thes,\n",
      "  and thee the seef thou hast thou hours the seat,\n",
      "  whe hast the store the fare the will for my love,\n",
      "  the stould the stare the love the store thee thene,\n",
      "  when i mast my the the with the eaven thee thee,\n",
      "    the sand the wind the stare the fore thee stere,\n",
      "  the steen the will the stare the store the will,\n",
      "  the store the will with the stall the steen thee,\n",
      "    the eaven the will where thou art thou art mend,\n",
      "  and the east whe eres the store the store thee,\n",
      "  the sone the stare the fare the love the frees,\n",
      "  the store the will with the east mine of me thee,\n",
      "    the sond the stere the stare the store thee these,\n",
      "  when i the will with th\n"
     ]
    }
   ],
   "source": [
    "print(sample(model, 1000, ' hello', 0.2))"
   ]
  },
  {
   "cell_type": "code",
   "execution_count": 26,
   "metadata": {},
   "outputs": [
    {
     "name": "stdout",
     "output_type": "stream",
     "text": [
      " hellon some the ell-will i sulf and graee,\n",
      "  and stoul the hald mo had the day his the whet,\n",
      "  whin so dowe thus that i show love a mester be.\n",
      "\n",
      "  xxx\n",
      "\n",
      "  so cheat the seaven live and love the prece,\n",
      "  that thou and the stall the condanceches in thee,\n",
      "  when should thou houst the store the fure thee me.\n",
      "\n",
      "  cxxi\n",
      "\n",
      "  o! me the for, the bearte of y thing that sind,\n",
      "  in the fiest thim the warth the  art the wing,\n",
      "  and sen love with thy with shall condetring.\n",
      "  the hars doth sighing thy shall thou swortes that heart,\n",
      "  the cenous the mened though to send and ore,\n",
      "  when thou art me for my would this grase your seat,\n",
      "  s all not the seas reded the cone and you heart the then,\n",
      "  than i an that fine thy love thou grase,\n",
      "  thou ar this sond mo but be for the live,\n",
      "  the beauty's the compection show st to ely,\n",
      "  my seat mane ere the blast for thee that live;\n",
      "  the pote of hase, my hast thou mast thy swatt,\n",
      "  and so sich and thas it in my sund still,\n",
      "  thy share mo gave that in thes il his stown,\n",
      "  that\n"
     ]
    }
   ],
   "source": [
    "print(sample(model, 1000, ' hello', 0.5))"
   ]
  },
  {
   "cell_type": "code",
   "execution_count": 27,
   "metadata": {},
   "outputs": [
    {
     "name": "stdout",
     "output_type": "stream",
     "text": [
      " hellove in il clleas hand homgs arank,\n",
      "  shall in an mane ave tis hath sgole'd sheigh;\n",
      "  of and thai wets afo'd sine ay my syen.\n",
      "\n",
      "  xxxv\n",
      "\n",
      "  wot a fas it pace of fom thy seifthat's right:\n",
      "  as ast thou inesthay hald tim sig caintatr ele,\n",
      "  the looks thou belfed, ail sull biass to that which,\n",
      "  and every fie nim foorst of stert love.\n",
      "  f\n",
      "  thy flare you, bat he jof hemsic's gronce cins lfobe;\n",
      "    oo mad il hour, and shaokel the dost cam's\n",
      "  thise and my sheer, be han thou besting lose?\n",
      "  te sive, that then in i llver thin best, the rendse.\n",
      "  acy har gruenust had ervify to date of cone,\n",
      "   will atatins  ore theth so for meselsed thought,\n",
      "  then art arp at an notells anaterv'd with:\n",
      "  unspatendner in mun to the sime's ssee's fay\n",
      "  as  think th my varse to kimppaiture tongli\n",
      "\n",
      "  gxiv\n",
      "  tht oug an thace chought of yef ofor mind.\n",
      "  exprist the heamer being ali ghe wagh nom,\n",
      "   ! e! d to aul mishtd eys ecoure ast abjout.\n",
      "  tho swiet, thougl nost lithtry,y il him thene har.\n",
      "  shemoly haid that whace s\n"
     ]
    }
   ],
   "source": [
    "print(sample(model, 1000, ' hello', 1.))"
   ]
  },
  {
   "cell_type": "code",
   "execution_count": 28,
   "metadata": {},
   "outputs": [
    {
     "name": "stdout",
     "output_type": "stream",
     "text": [
      " helloat, a lom.! do\n",
      "  youen ine'brind,  a k jinoy siil\n",
      "  wis wche,-agrichee y,sur ahbeygatl\n",
      "t '\n",
      "f trebing gumf'u-ubbub hazl yeuln enty,\n",
      "' acd\n",
      "e adouno, anldcuppent, yequay,\n",
      "  know emek'ch chird, bbfous, woul\n",
      "  tpliueny s chowccllco,g' wrot\n",
      "   bur rofqupaillth e!s youh re, you yutkz.!\n",
      "  rithof:u sousivned hozaf dugr svugef oarts ose,\n",
      "  gnountsmist;gn'quliye hamt heroto,\n",
      "  ty\n",
      "  leovhy trlistoke weld stime;\n",
      "  m fwir gach, whe-llceis''g; as abeseabl.so gas s an t,ejaye\n",
      "  pprpissiud.\n",
      "   yain chint\n",
      "  d itiditx tules weri hathusu e cy unli guten.\n",
      "\n",
      " - i\n",
      "\n",
      "  af ox,r! queo  dayrthydvald,\n",
      "r wii,\n",
      "o wiy w,thrind cyancal werpit so l.evach you-\n",
      "  whene;   vimeffyh hrofe,a, neist glots wery meey,\n",
      "  and sf yat, ans immssqsiytsod  betsh'c?' siky,\n",
      "  hoh, gin, the cpaculfshadratemby vial; o :!\n",
      " rpepw;\n",
      "  s b\n",
      " oqeoull ful, ors ouspace y if ma,\n",
      "  u) ommtoun dysubsocanse fos whe poyt reorbur.\n",
      "  m\n",
      "(!ervee wkeed sus leagurserd;\n",
      "  crjoolt ceitu toremaw unt! vistr diwey ce's,\n",
      "\n",
      " -cleiv\n",
      "\n",
      "  yh muk im aass,! froseste hoi be\n"
     ]
    }
   ],
   "source": [
    "print(sample(model, 1000, ' hello', 2.))"
   ]
  },
  {
   "cell_type": "markdown",
   "metadata": {},
   "source": [
    "Notice how we get fairly good samples with temperature 0.1 and 0.2, but they are all very similar to each other. If we increase the temperature to (1.), we get more diverse sequences. However, the quality of the samples are not as good. If we increase the temperature enough (2.), we might as well generate random sequences."
   ]
  },
  {
   "cell_type": "markdown",
   "metadata": {},
   "source": [
    "### Saving and loading models"
   ]
  },
  {
   "cell_type": "markdown",
   "metadata": {},
   "source": [
    "Save the model to the disk, then load it and generate text. Examples are available [here](https://pytorch.org/tutorials/beginner/saving_loading_models.html])."
   ]
  },
  {
   "cell_type": "code",
   "execution_count": 29,
   "metadata": {},
   "outputs": [],
   "source": [
    "# Saving and loading code here\n",
    "torch.save(model.state_dict(), 'my_model')"
   ]
  },
  {
   "cell_type": "code",
   "execution_count": 30,
   "metadata": {},
   "outputs": [
    {
     "data": {
      "text/plain": [
       "LSTM(\n",
       "  (lstm): LSTM(38, 512, batch_first=True)\n",
       "  (lin): Linear(in_features=512, out_features=38, bias=True)\n",
       ")"
      ]
     },
     "execution_count": 30,
     "metadata": {},
     "output_type": "execute_result"
    }
   ],
   "source": [
    "loaded_model = LSTM(num_tokens, n_hidden)\n",
    "loaded_model.load_state_dict(torch.load('my_model'))\n",
    "loaded_model.eval()"
   ]
  },
  {
   "cell_type": "code",
   "execution_count": 31,
   "metadata": {},
   "outputs": [
    {
     "name": "stdout",
     "output_type": "stream",
     "text": [
      " hellong with thee the that it love now thought,\n",
      "  whan i pand on menter the eave priget,\n",
      "  as the but thes beare to the ears thou mind.\n",
      "  the seaver to thou with the store the ding,\n",
      "  comef in the love, no ele the hads and more,\n",
      "    thin thou all though sheming of you hast stere hats my love,\n",
      "  thy share with that the fore thee my some swoll,\n",
      "  the oun the fore to the fore summed mo thy seat,\n",
      "  that sto for thee atren thy hach astrens for thee:\n",
      "  the plofess for the worth thee sulf love you heart,\n",
      "  when i whin the songe the store the greating do,\n",
      "   sto love that with my heart the beauty sane.\n",
      "    fou dost the ere be the still to thes mest.\n",
      "  tho  all the wind, that thau kinf im foor so pray,\n",
      "  whe hating the beauty werth in the tome doth resers,\n",
      "  and thee the wrow, that that the some as thee thee thee,\n",
      "  when thy sen the rivel shall the with thy hait,\n",
      "  the worl thou art the shate ald thou do this werth streast,\n",
      "  thy slowe the worls make be on you hast with the will,\n",
      "  and i no dich and \n"
     ]
    }
   ],
   "source": [
    "print(sample(loaded_model, 1000, ' hello', 0.5))"
   ]
  },
  {
   "cell_type": "markdown",
   "metadata": {},
   "source": [
    "### References\n",
    "1. <a href='http://karpathy.github.io/2015/05/21/rnn-effectiveness/'> Andrew Karpathy blog post about RNN. </a> \n",
    "There are several examples of genration: Shakespeare texts, Latex formulas, Linux Sourse Code and children names.\n",
    "2. <a href='https://github.com/karpathy/char-rnn'> Repo with char-rnn code </a>\n",
    "3. Cool repo with PyTorch examples: [link](https://github.com/spro/practical-pytorch`)"
   ]
  }
 ],
 "metadata": {
  "anaconda-cloud": {},
  "kernelspec": {
   "display_name": "Python 3 (ipykernel)",
   "language": "python",
   "name": "python3"
  },
  "language_info": {
   "codemirror_mode": {
    "name": "ipython",
    "version": 3
   },
   "file_extension": ".py",
   "mimetype": "text/x-python",
   "name": "python",
   "nbconvert_exporter": "python",
   "pygments_lexer": "ipython3",
   "version": "3.11.5"
  }
 },
 "nbformat": 4,
 "nbformat_minor": 4
}
